{
 "cells": [
  {
   "cell_type": "code",
   "execution_count": 1,
   "metadata": {
    "collapsed": true,
    "ExecuteTime": {
     "start_time": "2023-05-08T17:23:14.242458Z",
     "end_time": "2023-05-08T17:23:14.538276Z"
    }
   },
   "outputs": [],
   "source": [
    "import pymongo"
   ]
  },
  {
   "cell_type": "code",
   "execution_count": 4,
   "outputs": [],
   "source": [
    "client = pymongo.MongoClient('localhost', 27017)\n",
    "db = client['search_engine']\n",
    "posting = db['posting']"
   ],
   "metadata": {
    "collapsed": false,
    "ExecuteTime": {
     "start_time": "2023-05-08T17:37:10.663613Z",
     "end_time": "2023-05-08T17:37:10.682119Z"
    }
   }
  },
  {
   "cell_type": "code",
   "execution_count": 5,
   "outputs": [
    {
     "data": {
      "text/plain": "<pymongo.results.UpdateResult at 0x247f675aaf0>"
     },
     "execution_count": 5,
     "metadata": {},
     "output_type": "execute_result"
    }
   ],
   "source": [
    "# 在posting中插入新的field: freq\n",
    "# cnt=0\n",
    "# for doc in posting.find():\n",
    "#     posting.update_one({'_id': doc['_id']}, {'$set': {'freq': len(doc['position'])}})\n",
    "# 低效\n",
    "\n",
    "# posting.update_many({}, {'$set': {'freq': {'$size': '$position'}}})\n",
    "# 插入的是一个字典{$size:'$position'}，而不是position的长度"
   ],
   "metadata": {
    "collapsed": false,
    "ExecuteTime": {
     "start_time": "2023-05-08T17:37:13.431796Z",
     "end_time": "2023-05-08T17:42:38.727889Z"
    }
   }
  },
  {
   "cell_type": "code",
   "execution_count": 6,
   "outputs": [
    {
     "data": {
      "text/plain": "<pymongo.results.UpdateResult at 0x247f66bc190>"
     },
     "execution_count": 6,
     "metadata": {},
     "output_type": "execute_result"
    }
   ],
   "source": [
    "posting.update_many({}, {'$unset': {'freq': 1}})"
   ],
   "metadata": {
    "collapsed": false,
    "ExecuteTime": {
     "start_time": "2023-05-08T17:43:28.555733Z",
     "end_time": "2023-05-08T17:48:00.594194Z"
    }
   }
  },
  {
   "cell_type": "code",
   "execution_count": 8,
   "outputs": [
    {
     "data": {
      "text/plain": "<pymongo.command_cursor.CommandCursor at 0x247f6703970>"
     },
     "execution_count": 8,
     "metadata": {},
     "output_type": "execute_result"
    }
   ],
   "source": [
    "pipeline = [\n",
    "    {'$addFields': {'freq': {'$size': '$position'}}},\n",
    "    {'$out': 'posting'}\n",
    "]\n",
    "posting.aggregate(pipeline)"
   ],
   "metadata": {
    "collapsed": false,
    "ExecuteTime": {
     "start_time": "2023-05-08T18:08:45.770172Z",
     "end_time": "2023-05-08T18:14:37.053636Z"
    }
   }
  },
  {
   "cell_type": "code",
   "execution_count": 9,
   "outputs": [],
   "source": [
    "client.close()"
   ],
   "metadata": {
    "collapsed": false,
    "ExecuteTime": {
     "start_time": "2023-05-08T19:31:25.336474Z",
     "end_time": "2023-05-08T19:31:25.346477Z"
    }
   }
  },
  {
   "cell_type": "code",
   "execution_count": null,
   "outputs": [],
   "source": [],
   "metadata": {
    "collapsed": false
   }
  }
 ],
 "metadata": {
  "kernelspec": {
   "display_name": "Python 3",
   "language": "python",
   "name": "python3"
  },
  "language_info": {
   "codemirror_mode": {
    "name": "ipython",
    "version": 2
   },
   "file_extension": ".py",
   "mimetype": "text/x-python",
   "name": "python",
   "nbconvert_exporter": "python",
   "pygments_lexer": "ipython2",
   "version": "2.7.6"
  }
 },
 "nbformat": 4,
 "nbformat_minor": 0
}
