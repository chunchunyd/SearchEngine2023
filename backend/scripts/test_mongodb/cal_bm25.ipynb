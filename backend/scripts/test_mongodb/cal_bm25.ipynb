{
 "cells": [
  {
   "cell_type": "code",
   "execution_count": 1,
   "metadata": {
    "collapsed": true,
    "ExecuteTime": {
     "start_time": "2023-05-08T20:09:49.231535Z",
     "end_time": "2023-05-08T20:09:49.513555Z"
    }
   },
   "outputs": [],
   "source": [
    "import pymongo\n",
    "\n",
    "client = pymongo.MongoClient('localhost', 27017)\n",
    "db = client['search_engine']\n",
    "law_document = db['law_document']\n",
    "posting = db['posting']\n",
    "term = db['term']"
   ]
  },
  {
   "cell_type": "code",
   "execution_count": null,
   "outputs": [],
   "source": [
    "\n",
    "  # bm25_score: {\n",
    "  #   $sum: {\n",
    "  #     $divide: [\n",
    "  #       {\n",
    "  #         $multiply: [2.2, \"$freq\"],\n",
    "  #       },\n",
    "  #       {\n",
    "  #         $add: [\n",
    "  #           {\n",
    "  #             $multiply: [\n",
    "  #               1.2,\n",
    "  #               {\n",
    "  #                 $add: [\n",
    "  #                   {\n",
    "  #                     $subtract: [1, 0.75],\n",
    "  #                   },\n",
    "  #                   {\n",
    "  #                     $multiply: [\n",
    "  #                       0.75,\n",
    "  #                       {\n",
    "  #                         $divide: [\n",
    "  #                           {\n",
    "  #                             $arrayElemAt: [\n",
    "  #                               \"$Law_Document.doc_len\",\n",
    "  #                               0,\n",
    "  #                             ],\n",
    "  #                           },\n",
    "  #                           4261,\n",
    "  #                         ],\n",
    "  #                       },\n",
    "  #                     ],\n",
    "  #                   },\n",
    "  #                 ],\n",
    "  #               },\n",
    "  #             ],\n",
    "  #           },\n",
    "  #           \"$freq\",\n",
    "  #         ],\n",
    "  #       },\n",
    "  #     ],\n",
    "  #   },\n",
    "  # },"
   ],
   "metadata": {
    "collapsed": false
   }
  }
 ],
 "metadata": {
  "kernelspec": {
   "display_name": "Python 3",
   "language": "python",
   "name": "python3"
  },
  "language_info": {
   "codemirror_mode": {
    "name": "ipython",
    "version": 2
   },
   "file_extension": ".py",
   "mimetype": "text/x-python",
   "name": "python",
   "nbconvert_exporter": "python",
   "pygments_lexer": "ipython2",
   "version": "2.7.6"
  }
 },
 "nbformat": 4,
 "nbformat_minor": 0
}
