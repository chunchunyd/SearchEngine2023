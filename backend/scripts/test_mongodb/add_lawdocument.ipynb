{
 "cells": [
  {
   "cell_type": "code",
   "execution_count": 41,
   "metadata": {
    "collapsed": true,
    "ExecuteTime": {
     "start_time": "2023-05-08T22:24:20.213482Z",
     "end_time": "2023-05-08T22:24:20.230482Z"
    }
   },
   "outputs": [],
   "source": [
    "import pymongo\n",
    "import sqlite3"
   ]
  },
  {
   "cell_type": "code",
   "execution_count": 42,
   "outputs": [],
   "source": [
    "client = pymongo.MongoClient('localhost', 27017)\n",
    "db = client['search_engine']\n",
    "law_document = db['law_document']"
   ],
   "metadata": {
    "collapsed": false,
    "ExecuteTime": {
     "start_time": "2023-05-08T22:24:21.315839Z",
     "end_time": "2023-05-08T22:24:21.351342Z"
    }
   }
  },
  {
   "cell_type": "code",
   "execution_count": 43,
   "outputs": [],
   "source": [
    "conn = sqlite3.connect('F:\\\\OneDrive - mails.tsinghua.edu.cn\\\\Coding\\\\SearchEngine\\\\SearchEngine2023\\\\backend\\\\db.sqlite3')"
   ],
   "metadata": {
    "collapsed": false,
    "ExecuteTime": {
     "start_time": "2023-05-08T22:24:24.435589Z",
     "end_time": "2023-05-08T22:24:24.450710Z"
    }
   }
  },
  {
   "cell_type": "code",
   "execution_count": 44,
   "outputs": [],
   "source": [
    "c = conn.cursor()"
   ],
   "metadata": {
    "collapsed": false,
    "ExecuteTime": {
     "start_time": "2023-05-08T22:24:25.123827Z",
     "end_time": "2023-05-08T22:24:25.130962Z"
    }
   }
  },
  {
   "cell_type": "code",
   "execution_count": 45,
   "outputs": [
    {
     "data": {
      "text/plain": "'doc_len_1'"
     },
     "execution_count": 45,
     "metadata": {},
     "output_type": "execute_result"
    }
   ],
   "source": [
    "# 设置LawDocument的字段为doc_id和doc_len\n",
    "law_document.create_index([('doc_id', pymongo.ASCENDING)], unique=True)\n",
    "law_document.create_index([('doc_len', pymongo.ASCENDING)])"
   ],
   "metadata": {
    "collapsed": false,
    "ExecuteTime": {
     "start_time": "2023-05-08T22:24:25.665873Z",
     "end_time": "2023-05-08T22:24:25.698386Z"
    }
   }
  },
  {
   "cell_type": "code",
   "execution_count": 46,
   "outputs": [
    {
     "name": "stdout",
     "output_type": "stream",
     "text": [
      "inserted 68000 to 69000"
     ]
    }
   ],
   "source": [
    "for i in range(69):\n",
    "    c.execute(f'SELECT id,address,full_text FROM common_lawdocument where id > {i*1000} and id <= {(i+1)*1000}')\n",
    "    results = c.fetchall()\n",
    "    # 转化为(doc_id:文档id, doc_len:文档内容长度)的形式\n",
    "    new_results = [{'doc_id': result[0], 'doc_len': len(result[2]), 'address': result[1], 'full_text': result[2]} for result in results]\n",
    "    law_document.insert_many(new_results)\n",
    "    print(f'\\rinserted {i*1000} to {(i+1)*1000}', end='')\n",
    "# 对于每一条记录，将其文本长度存入mongoDB\n"
   ],
   "metadata": {
    "collapsed": false,
    "ExecuteTime": {
     "start_time": "2023-05-08T22:24:27.545071Z",
     "end_time": "2023-05-08T22:24:38.773180Z"
    }
   }
  },
  {
   "cell_type": "code",
   "execution_count": 47,
   "outputs": [],
   "source": [
    "client.close()"
   ],
   "metadata": {
    "collapsed": false,
    "ExecuteTime": {
     "start_time": "2023-05-08T22:24:40.862656Z",
     "end_time": "2023-05-08T22:24:40.889180Z"
    }
   }
  },
  {
   "cell_type": "code",
   "execution_count": 48,
   "outputs": [],
   "source": [
    "conn.close()"
   ],
   "metadata": {
    "collapsed": false,
    "ExecuteTime": {
     "start_time": "2023-05-08T22:24:43.086091Z",
     "end_time": "2023-05-08T22:24:43.091203Z"
    }
   }
  },
  {
   "cell_type": "code",
   "execution_count": null,
   "outputs": [],
   "source": [],
   "metadata": {
    "collapsed": false
   }
  }
 ],
 "metadata": {
  "kernelspec": {
   "display_name": "Python 3",
   "language": "python",
   "name": "python3"
  },
  "language_info": {
   "codemirror_mode": {
    "name": "ipython",
    "version": 2
   },
   "file_extension": ".py",
   "mimetype": "text/x-python",
   "name": "python",
   "nbconvert_exporter": "python",
   "pygments_lexer": "ipython2",
   "version": "2.7.6"
  }
 },
 "nbformat": 4,
 "nbformat_minor": 0
}
