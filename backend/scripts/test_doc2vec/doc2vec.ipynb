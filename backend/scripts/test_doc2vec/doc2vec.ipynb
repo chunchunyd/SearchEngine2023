{
 "cells": [
  {
   "cell_type": "code",
   "execution_count": 47,
   "metadata": {
    "collapsed": true,
    "ExecuteTime": {
     "start_time": "2023-06-03T04:01:15.681319Z",
     "end_time": "2023-06-03T04:01:15.685497Z"
    }
   },
   "outputs": [],
   "source": [
    "# import libraries\n",
    "import gensim\n",
    "from gensim.models.doc2vec import Doc2Vec, TaggedDocument\n",
    "from nltk.tokenize import word_tokenize"
   ]
  },
  {
   "cell_type": "code",
   "execution_count": 4,
   "outputs": [
    {
     "name": "stderr",
     "output_type": "stream",
     "text": [
      "[nltk_data] Downloading package punkt to\n",
      "[nltk_data]     C:\\Users\\hawan\\AppData\\Roaming\\nltk_data...\n",
      "[nltk_data]   Unzipping tokenizers\\punkt.zip.\n"
     ]
    },
    {
     "data": {
      "text/plain": "True"
     },
     "execution_count": 4,
     "metadata": {},
     "output_type": "execute_result"
    }
   ],
   "source": [
    "import nltk\n",
    "\n",
    "nltk.download('punkt')"
   ],
   "metadata": {
    "collapsed": false,
    "ExecuteTime": {
     "start_time": "2023-06-03T03:43:15.816999Z",
     "end_time": "2023-06-03T03:43:19.917395Z"
    }
   }
  },
  {
   "cell_type": "code",
   "execution_count": 48,
   "outputs": [],
   "source": [
    "# 标记我们的数据\n",
    "\n",
    "data = [\"The process of searching for a job can be very stressful, but it doesn’t have to be. Start with a\\\n",
    "        well-written resume that has appropriate keywords for your occupation. Next, conduct a targeted job search\\\n",
    "        for positions that meet your needs.\",\n",
    "        \"Gardening in mixed beds is a great way to get the most productivity from a small space. Some investment\\\n",
    "        is required, to purchase materials for the beds themselves, as well as soil and compost. The\\\n",
    "        investment will likely pay-off in terms of increased productivity.\",\n",
    "        \"Looking for a job can be very stressful, but it doesn’t have to be. Begin by writing a good resume with\\\n",
    "        appropriate keywords for your occupation. Second, target your job search for positions that match your\\\n",
    "        needs.\"]\n",
    "\n",
    "tagged_data = [TaggedDocument(words=word_tokenize(_d.lower()), tags=[str(i)]) for i, _d in enumerate(data)]\n"
   ],
   "metadata": {
    "collapsed": false,
    "ExecuteTime": {
     "start_time": "2023-06-03T04:01:17.618997Z",
     "end_time": "2023-06-03T04:01:17.621630Z"
    }
   }
  },
  {
   "cell_type": "code",
   "execution_count": 49,
   "outputs": [
    {
     "name": "stdout",
     "output_type": "stream",
     "text": [
      "[TaggedDocument(words=['the', 'process', 'of', 'searching', 'for', 'a', 'job', 'can', 'be', 'very', 'stressful', ',', 'but', 'it', 'doesn', '’', 't', 'have', 'to', 'be', '.', 'start', 'with', 'a', 'well-written', 'resume', 'that', 'has', 'appropriate', 'keywords', 'for', 'your', 'occupation', '.', 'next', ',', 'conduct', 'a', 'targeted', 'job', 'search', 'for', 'positions', 'that', 'meet', 'your', 'needs', '.'], tags=['0']), TaggedDocument(words=['gardening', 'in', 'mixed', 'beds', 'is', 'a', 'great', 'way', 'to', 'get', 'the', 'most', 'productivity', 'from', 'a', 'small', 'space', '.', 'some', 'investment', 'is', 'required', ',', 'to', 'purchase', 'materials', 'for', 'the', 'beds', 'themselves', ',', 'as', 'well', 'as', 'soil', 'and', 'compost', '.', 'the', 'investment', 'will', 'likely', 'pay-off', 'in', 'terms', 'of', 'increased', 'productivity', '.'], tags=['1']), TaggedDocument(words=['looking', 'for', 'a', 'job', 'can', 'be', 'very', 'stressful', ',', 'but', 'it', 'doesn', '’', 't', 'have', 'to', 'be', '.', 'begin', 'by', 'writing', 'a', 'good', 'resume', 'with', 'appropriate', 'keywords', 'for', 'your', 'occupation', '.', 'second', ',', 'target', 'your', 'job', 'search', 'for', 'positions', 'that', 'match', 'your', 'needs', '.'], tags=['2'])]\n"
     ]
    }
   ],
   "source": [
    "print(tagged_data)"
   ],
   "metadata": {
    "collapsed": false,
    "ExecuteTime": {
     "start_time": "2023-06-03T04:01:18.304300Z",
     "end_time": "2023-06-03T04:01:18.311298Z"
    }
   }
  },
  {
   "cell_type": "code",
   "execution_count": 50,
   "outputs": [],
   "source": [
    "model = gensim.models.doc2vec.Doc2Vec(vector_size=30, min_count=2, epochs=80)"
   ],
   "metadata": {
    "collapsed": false,
    "ExecuteTime": {
     "start_time": "2023-06-03T04:01:20.373408Z",
     "end_time": "2023-06-03T04:01:20.379563Z"
    }
   }
  },
  {
   "cell_type": "code",
   "execution_count": 51,
   "outputs": [],
   "source": [
    "model.build_vocab(tagged_data)"
   ],
   "metadata": {
    "collapsed": false,
    "ExecuteTime": {
     "start_time": "2023-06-03T04:01:21.178456Z",
     "end_time": "2023-06-03T04:01:21.184651Z"
    }
   }
  },
  {
   "cell_type": "code",
   "execution_count": 67,
   "outputs": [],
   "source": [
    "model.train(tagged_data, total_examples=model.corpus_count, epochs=model.epochs)"
   ],
   "metadata": {
    "collapsed": false,
    "ExecuteTime": {
     "start_time": "2023-06-03T04:48:32.070187Z",
     "end_time": "2023-06-03T04:48:32.162827Z"
    }
   }
  },
  {
   "cell_type": "code",
   "execution_count": 53,
   "outputs": [],
   "source": [
    "model.save(\"d2v.model\")"
   ],
   "metadata": {
    "collapsed": false,
    "ExecuteTime": {
     "start_time": "2023-06-03T04:01:23.076941Z",
     "end_time": "2023-06-03T04:01:23.083915Z"
    }
   }
  },
  {
   "cell_type": "code",
   "execution_count": 54,
   "outputs": [
    {
     "data": {
      "text/plain": "<gensim.models.doc2vec.Doc2Vec at 0x236322b5c40>"
     },
     "execution_count": 54,
     "metadata": {},
     "output_type": "execute_result"
    }
   ],
   "source": [
    "# 从模型中加载\n",
    "gensim.models.Doc2Vec.load(\"d2v.model\")"
   ],
   "metadata": {
    "collapsed": false,
    "ExecuteTime": {
     "start_time": "2023-06-03T04:01:24.046183Z",
     "end_time": "2023-06-03T04:01:24.051844Z"
    }
   }
  },
  {
   "cell_type": "code",
   "execution_count": 57,
   "outputs": [
    {
     "name": "stdout",
     "output_type": "stream",
     "text": [
      "('0', 0.9393066167831421)\n"
     ]
    },
    {
     "name": "stderr",
     "output_type": "stream",
     "text": [
      "C:\\Users\\hawan\\AppData\\Local\\Temp\\ipykernel_22656\\890580979.py:2: DeprecationWarning: Call to deprecated `docvecs` (The `docvecs` property has been renamed `dv`.).\n",
      "  similar_doc = model.docvecs.most_similar('2')\n"
     ]
    }
   ],
   "source": [
    "# 计算相似度\n",
    "similar_doc = model.docvecs.most_similar('2')\n",
    "\n",
    "print(similar_doc[0])"
   ],
   "metadata": {
    "collapsed": false,
    "ExecuteTime": {
     "start_time": "2023-06-03T04:01:37.063442Z",
     "end_time": "2023-06-03T04:01:37.069589Z"
    }
   }
  },
  {
   "cell_type": "code",
   "execution_count": 59,
   "outputs": [
    {
     "name": "stderr",
     "output_type": "stream",
     "text": [
      "C:\\Users\\hawan\\AppData\\Local\\Temp\\ipykernel_22656\\4254276309.py:1: DeprecationWarning: Call to deprecated `docvecs` (The `docvecs` property has been renamed `dv`.).\n",
      "  model.docvecs.similarity('0', '1')\n"
     ]
    },
    {
     "data": {
      "text/plain": "0.91996104"
     },
     "execution_count": 59,
     "metadata": {},
     "output_type": "execute_result"
    }
   ],
   "source": [
    "model.docvecs.similarity('0', '1')"
   ],
   "metadata": {
    "collapsed": false,
    "ExecuteTime": {
     "start_time": "2023-06-03T04:01:56.048512Z",
     "end_time": "2023-06-03T04:01:56.054219Z"
    }
   }
  },
  {
   "cell_type": "code",
   "execution_count": 60,
   "outputs": [
    {
     "name": "stderr",
     "output_type": "stream",
     "text": [
      "C:\\Users\\hawan\\AppData\\Local\\Temp\\ipykernel_22656\\1520851583.py:1: DeprecationWarning: Call to deprecated `docvecs` (The `docvecs` property has been renamed `dv`.).\n",
      "  model.docvecs.similarity('0', '2')\n"
     ]
    },
    {
     "data": {
      "text/plain": "0.9393066"
     },
     "execution_count": 60,
     "metadata": {},
     "output_type": "execute_result"
    }
   ],
   "source": [
    "model.docvecs.similarity('0', '2')"
   ],
   "metadata": {
    "collapsed": false,
    "ExecuteTime": {
     "start_time": "2023-06-03T04:02:01.200482Z",
     "end_time": "2023-06-03T04:02:01.208479Z"
    }
   }
  },
  {
   "cell_type": "code",
   "execution_count": 61,
   "outputs": [
    {
     "name": "stderr",
     "output_type": "stream",
     "text": [
      "C:\\Users\\hawan\\AppData\\Local\\Temp\\ipykernel_22656\\3480844108.py:1: DeprecationWarning: Call to deprecated `docvecs` (The `docvecs` property has been renamed `dv`.).\n",
      "  model.docvecs.similarity('1', '2')\n"
     ]
    },
    {
     "data": {
      "text/plain": "0.93899655"
     },
     "execution_count": 61,
     "metadata": {},
     "output_type": "execute_result"
    }
   ],
   "source": [
    "model.docvecs.similarity('1', '2')"
   ],
   "metadata": {
    "collapsed": false,
    "ExecuteTime": {
     "start_time": "2023-06-03T04:02:11.718140Z",
     "end_time": "2023-06-03T04:02:11.726145Z"
    }
   }
  },
  {
   "cell_type": "code",
   "execution_count": 26,
   "outputs": [
    {
     "name": "stderr",
     "output_type": "stream",
     "text": [
      "C:\\Users\\hawan\\AppData\\Local\\Temp\\ipykernel_22656\\3744714314.py:1: DeprecationWarning: Call to deprecated `docvecs` (The `docvecs` property has been renamed `dv`.).\n",
      "  model.docvecs.similarity('1', '3')\n"
     ]
    },
    {
     "ename": "KeyError",
     "evalue": "\"Key '3' not present\"",
     "output_type": "error",
     "traceback": [
      "\u001B[1;31m---------------------------------------------------------------------------\u001B[0m",
      "\u001B[1;31mKeyError\u001B[0m                                  Traceback (most recent call last)",
      "Cell \u001B[1;32mIn[26], line 1\u001B[0m\n\u001B[1;32m----> 1\u001B[0m \u001B[43mmodel\u001B[49m\u001B[38;5;241;43m.\u001B[39;49m\u001B[43mdocvecs\u001B[49m\u001B[38;5;241;43m.\u001B[39;49m\u001B[43msimilarity\u001B[49m\u001B[43m(\u001B[49m\u001B[38;5;124;43m'\u001B[39;49m\u001B[38;5;124;43m1\u001B[39;49m\u001B[38;5;124;43m'\u001B[39;49m\u001B[43m,\u001B[49m\u001B[43m \u001B[49m\u001B[38;5;124;43m'\u001B[39;49m\u001B[38;5;124;43m3\u001B[39;49m\u001B[38;5;124;43m'\u001B[39;49m\u001B[43m)\u001B[49m\n",
      "File \u001B[1;32mD:\\Softwares\\Coding\\Compilers\\Anaconda\\envs\\search_engine\\lib\\site-packages\\gensim\\models\\keyedvectors.py:1234\u001B[0m, in \u001B[0;36mKeyedVectors.similarity\u001B[1;34m(self, w1, w2)\u001B[0m\n\u001B[0;32m   1218\u001B[0m \u001B[38;5;28;01mdef\u001B[39;00m \u001B[38;5;21msimilarity\u001B[39m(\u001B[38;5;28mself\u001B[39m, w1, w2):\n\u001B[0;32m   1219\u001B[0m     \u001B[38;5;124;03m\"\"\"Compute cosine similarity between two keys.\u001B[39;00m\n\u001B[0;32m   1220\u001B[0m \n\u001B[0;32m   1221\u001B[0m \u001B[38;5;124;03m    Parameters\u001B[39;00m\n\u001B[1;32m   (...)\u001B[0m\n\u001B[0;32m   1232\u001B[0m \n\u001B[0;32m   1233\u001B[0m \u001B[38;5;124;03m    \"\"\"\u001B[39;00m\n\u001B[1;32m-> 1234\u001B[0m     \u001B[38;5;28;01mreturn\u001B[39;00m dot(matutils\u001B[38;5;241m.\u001B[39munitvec(\u001B[38;5;28mself\u001B[39m[w1]), matutils\u001B[38;5;241m.\u001B[39munitvec(\u001B[38;5;28;43mself\u001B[39;49m\u001B[43m[\u001B[49m\u001B[43mw2\u001B[49m\u001B[43m]\u001B[49m))\n",
      "File \u001B[1;32mD:\\Softwares\\Coding\\Compilers\\Anaconda\\envs\\search_engine\\lib\\site-packages\\gensim\\models\\keyedvectors.py:403\u001B[0m, in \u001B[0;36mKeyedVectors.__getitem__\u001B[1;34m(self, key_or_keys)\u001B[0m\n\u001B[0;32m    389\u001B[0m \u001B[38;5;124;03m\"\"\"Get vector representation of `key_or_keys`.\u001B[39;00m\n\u001B[0;32m    390\u001B[0m \n\u001B[0;32m    391\u001B[0m \u001B[38;5;124;03mParameters\u001B[39;00m\n\u001B[1;32m   (...)\u001B[0m\n\u001B[0;32m    400\u001B[0m \n\u001B[0;32m    401\u001B[0m \u001B[38;5;124;03m\"\"\"\u001B[39;00m\n\u001B[0;32m    402\u001B[0m \u001B[38;5;28;01mif\u001B[39;00m \u001B[38;5;28misinstance\u001B[39m(key_or_keys, _KEY_TYPES):\n\u001B[1;32m--> 403\u001B[0m     \u001B[38;5;28;01mreturn\u001B[39;00m \u001B[38;5;28;43mself\u001B[39;49m\u001B[38;5;241;43m.\u001B[39;49m\u001B[43mget_vector\u001B[49m\u001B[43m(\u001B[49m\u001B[43mkey_or_keys\u001B[49m\u001B[43m)\u001B[49m\n\u001B[0;32m    405\u001B[0m \u001B[38;5;28;01mreturn\u001B[39;00m vstack([\u001B[38;5;28mself\u001B[39m\u001B[38;5;241m.\u001B[39mget_vector(key) \u001B[38;5;28;01mfor\u001B[39;00m key \u001B[38;5;129;01min\u001B[39;00m key_or_keys])\n",
      "File \u001B[1;32mD:\\Softwares\\Coding\\Compilers\\Anaconda\\envs\\search_engine\\lib\\site-packages\\gensim\\models\\keyedvectors.py:446\u001B[0m, in \u001B[0;36mKeyedVectors.get_vector\u001B[1;34m(self, key, norm)\u001B[0m\n\u001B[0;32m    422\u001B[0m \u001B[38;5;28;01mdef\u001B[39;00m \u001B[38;5;21mget_vector\u001B[39m(\u001B[38;5;28mself\u001B[39m, key, norm\u001B[38;5;241m=\u001B[39m\u001B[38;5;28;01mFalse\u001B[39;00m):\n\u001B[0;32m    423\u001B[0m     \u001B[38;5;124;03m\"\"\"Get the key's vector, as a 1D numpy array.\u001B[39;00m\n\u001B[0;32m    424\u001B[0m \n\u001B[0;32m    425\u001B[0m \u001B[38;5;124;03m    Parameters\u001B[39;00m\n\u001B[1;32m   (...)\u001B[0m\n\u001B[0;32m    444\u001B[0m \n\u001B[0;32m    445\u001B[0m \u001B[38;5;124;03m    \"\"\"\u001B[39;00m\n\u001B[1;32m--> 446\u001B[0m     index \u001B[38;5;241m=\u001B[39m \u001B[38;5;28;43mself\u001B[39;49m\u001B[38;5;241;43m.\u001B[39;49m\u001B[43mget_index\u001B[49m\u001B[43m(\u001B[49m\u001B[43mkey\u001B[49m\u001B[43m)\u001B[49m\n\u001B[0;32m    447\u001B[0m     \u001B[38;5;28;01mif\u001B[39;00m norm:\n\u001B[0;32m    448\u001B[0m         \u001B[38;5;28mself\u001B[39m\u001B[38;5;241m.\u001B[39mfill_norms()\n",
      "File \u001B[1;32mD:\\Softwares\\Coding\\Compilers\\Anaconda\\envs\\search_engine\\lib\\site-packages\\gensim\\models\\keyedvectors.py:420\u001B[0m, in \u001B[0;36mKeyedVectors.get_index\u001B[1;34m(self, key, default)\u001B[0m\n\u001B[0;32m    418\u001B[0m     \u001B[38;5;28;01mreturn\u001B[39;00m default\n\u001B[0;32m    419\u001B[0m \u001B[38;5;28;01melse\u001B[39;00m:\n\u001B[1;32m--> 420\u001B[0m     \u001B[38;5;28;01mraise\u001B[39;00m \u001B[38;5;167;01mKeyError\u001B[39;00m(\u001B[38;5;124mf\u001B[39m\u001B[38;5;124m\"\u001B[39m\u001B[38;5;124mKey \u001B[39m\u001B[38;5;124m'\u001B[39m\u001B[38;5;132;01m{\u001B[39;00mkey\u001B[38;5;132;01m}\u001B[39;00m\u001B[38;5;124m'\u001B[39m\u001B[38;5;124m not present\u001B[39m\u001B[38;5;124m\"\u001B[39m)\n",
      "\u001B[1;31mKeyError\u001B[0m: \"Key '3' not present\""
     ]
    }
   ],
   "source": [
    "model.docvecs.similarity('1', '3')"
   ],
   "metadata": {
    "collapsed": false
   }
  },
  {
   "cell_type": "code",
   "execution_count": 62,
   "outputs": [
    {
     "name": "stdout",
     "output_type": "stream",
     "text": [
      "V1_infer [-0.17298579  0.127903    0.14399172  0.0474085  -0.03293706 -0.01273019\n",
      " -0.10772055 -0.04456817 -0.54189944 -0.06661257  0.09414992 -0.03048338\n",
      " -0.12387884 -0.47155198 -0.02964431 -0.26211956  0.11188516 -0.0056281\n",
      " -0.21184742 -0.14939156  0.15217604  0.02204626 -0.1879678   0.12445168\n",
      "  0.31978175  0.11734581  0.10158727 -0.00155555  0.05369437 -0.25901806]\n"
     ]
    }
   ],
   "source": [
    "test_data = word_tokenize(\n",
    "    \"Gardening in mixed beds is a great way to get the most productivity from a small space. Some investment is required, to purchase materials for the beds themselves, as well as soil and compost. The investment will likely pay-off in terms of increased productivity.\".lower())\n",
    "v1 = model.infer_vector(test_data)\n",
    "print(\"V1_infer\", v1)"
   ],
   "metadata": {
    "collapsed": false,
    "ExecuteTime": {
     "start_time": "2023-06-03T04:02:45.897081Z",
     "end_time": "2023-06-03T04:02:45.902261Z"
    }
   }
  },
  {
   "cell_type": "code",
   "execution_count": 65,
   "outputs": [
    {
     "name": "stderr",
     "output_type": "stream",
     "text": [
      "C:\\Users\\hawan\\AppData\\Local\\Temp\\ipykernel_22656\\408121719.py:2: DeprecationWarning: Call to deprecated `docvecs` (The `docvecs` property has been renamed `dv`.).\n",
      "  similar_doc = model.docvecs.most_similar(v1)\n"
     ]
    }
   ],
   "source": [
    "# to find most similar doc to test data\n",
    "similar_doc = model.docvecs.most_similar([v1])"
   ],
   "metadata": {
    "collapsed": false,
    "ExecuteTime": {
     "start_time": "2023-06-03T04:03:25.046167Z",
     "end_time": "2023-06-03T04:03:25.051167Z"
    }
   }
  },
  {
   "cell_type": "code",
   "execution_count": 66,
   "outputs": [
    {
     "name": "stdout",
     "output_type": "stream",
     "text": [
      "[('0', 0.9774290323257446), ('2', 0.9693566560745239), ('1', 0.958945631980896)]\n"
     ]
    }
   ],
   "source": [
    "print(similar_doc)"
   ],
   "metadata": {
    "collapsed": false,
    "ExecuteTime": {
     "start_time": "2023-06-03T04:03:27.986661Z",
     "end_time": "2023-06-03T04:03:27.989804Z"
    }
   }
  },
  {
   "cell_type": "code",
   "execution_count": null,
   "outputs": [],
   "source": [],
   "metadata": {
    "collapsed": false
   }
  }
 ],
 "metadata": {
  "kernelspec": {
   "display_name": "Python 3",
   "language": "python",
   "name": "python3"
  },
  "language_info": {
   "codemirror_mode": {
    "name": "ipython",
    "version": 2
   },
   "file_extension": ".py",
   "mimetype": "text/x-python",
   "name": "python",
   "nbconvert_exporter": "python",
   "pygments_lexer": "ipython2",
   "version": "2.7.6"
  }
 },
 "nbformat": 4,
 "nbformat_minor": 0
}
