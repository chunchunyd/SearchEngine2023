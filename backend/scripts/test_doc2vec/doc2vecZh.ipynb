{
 "cells": [
  {
   "cell_type": "code",
   "execution_count": null,
   "metadata": {
    "collapsed": true
   },
   "outputs": [],
   "source": [
    "data = [\n",
    "    \"原告韦斌姬为与被告韦斌强、杜满萍民间借贷纠纷一案，于2016年12月1日向本院提起诉讼，请求判令两被告归还借款10万元，并支付利息（自起诉之日起按中国人民银行同期同档次贷款基准利率计算至实际履行之日止）。本院受理后，依法由审判员甘震适用简易程序独任审判。被告杜满萍在提交答辩状期间对管辖权提出异议，本院裁定予以驳回。\",\n",
    "    \"驳回谭某某的其他诉讼请求。本案案件受理费4138元，由谭某某负担2069元，徐某某负担2069元。上述款项，谭某某已预交，徐某某所负担的部分，应于本案判决生效之日起十日内支付给谭某某。 上诉人谭某某上诉称：一审法院认定被上诉人账号为×的存折最早开户日为2009年6月7日，所以存款距离离婚时间久远且已经销户。\",\n",
    "    \"原审被告人彭某平，绰号“橡胶”，男，1970年9月9日出生于湖南省南县，汉族，高中文化，无业。因本案，2014年6月6日被南县公安局取保候审，同年9月2日被南县人民检察院决定取保候审，经南县人民法院决定，2014年10月29日对其监视居住。\"]"
   ]
  }
 ],
 "metadata": {
  "kernelspec": {
   "display_name": "Python 3",
   "language": "python",
   "name": "python3"
  },
  "language_info": {
   "codemirror_mode": {
    "name": "ipython",
    "version": 2
   },
   "file_extension": ".py",
   "mimetype": "text/x-python",
   "name": "python",
   "nbconvert_exporter": "python",
   "pygments_lexer": "ipython2",
   "version": "2.7.6"
  }
 },
 "nbformat": 4,
 "nbformat_minor": 0
}
