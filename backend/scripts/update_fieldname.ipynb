{
 "cells": [
  {
   "cell_type": "code",
   "execution_count": null,
   "metadata": {},
   "outputs": [],
   "source": [
    "import pymongo\n",
    "client = pymongo.MongoClient('localhost',27017)"
   ]
  }
 ],
 "metadata": {
  "kernelspec": {
   "display_name": "Python 3.9.10 64-bit",
   "language": "python",
   "name": "python3"
  },
  "language_info": {
   "name": "python",
   "version": "3.9.10"
  },
  "orig_nbformat": 4,
  "vscode": {
   "interpreter": {
    "hash": "6f30ba2d50c0f0914fd00586395249efdf3957cb7ebd3eb08d3003b6528b18e3"
   }
  }
 },
 "nbformat": 4,
 "nbformat_minor": 2
}
